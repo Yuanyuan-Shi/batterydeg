{
 "cells": [
  {
   "cell_type": "code",
   "execution_count": 201,
   "metadata": {
    "collapsed": true
   },
   "outputs": [],
   "source": [
    "import matplotlib.pyplot as plt\n",
    "from sklearn.pipeline import Pipeline\n",
    "from sklearn import datasets, linear_model\n",
    "from sklearn import cross_validation\n",
    "import numpy as np\n",
    "import pandas as pd\n",
    "from sklearn import preprocessing"
   ]
  },
  {
   "cell_type": "code",
   "execution_count": 202,
   "metadata": {},
   "outputs": [
    {
     "data": {
      "text/html": [
       "<div>\n",
       "<style>\n",
       "    .dataframe thead tr:only-child th {\n",
       "        text-align: right;\n",
       "    }\n",
       "\n",
       "    .dataframe thead th {\n",
       "        text-align: left;\n",
       "    }\n",
       "\n",
       "    .dataframe tbody tr th {\n",
       "        vertical-align: top;\n",
       "    }\n",
       "</style>\n",
       "<table border=\"1\" class=\"dataframe\">\n",
       "  <thead>\n",
       "    <tr style=\"text-align: right;\">\n",
       "      <th></th>\n",
       "      <th>SOC</th>\n",
       "      <th>SOH</th>\n",
       "      <th>Power</th>\n",
       "      <th>T</th>\n",
       "      <th>SEI_after</th>\n",
       "      <th>SEI_delta</th>\n",
       "    </tr>\n",
       "  </thead>\n",
       "  <tbody>\n",
       "    <tr>\n",
       "      <th>10</th>\n",
       "      <td>80</td>\n",
       "      <td>1.0</td>\n",
       "      <td>0.0526</td>\n",
       "      <td>23</td>\n",
       "      <td>0.0</td>\n",
       "      <td>44.8776</td>\n",
       "    </tr>\n",
       "    <tr>\n",
       "      <th>11</th>\n",
       "      <td>80</td>\n",
       "      <td>1.0</td>\n",
       "      <td>0.1579</td>\n",
       "      <td>23</td>\n",
       "      <td>0.0</td>\n",
       "      <td>46.1896</td>\n",
       "    </tr>\n",
       "    <tr>\n",
       "      <th>12</th>\n",
       "      <td>80</td>\n",
       "      <td>1.0</td>\n",
       "      <td>0.2632</td>\n",
       "      <td>23</td>\n",
       "      <td>0.0</td>\n",
       "      <td>47.5605</td>\n",
       "    </tr>\n",
       "    <tr>\n",
       "      <th>13</th>\n",
       "      <td>80</td>\n",
       "      <td>1.0</td>\n",
       "      <td>0.3684</td>\n",
       "      <td>23</td>\n",
       "      <td>0.0</td>\n",
       "      <td>48.9998</td>\n",
       "    </tr>\n",
       "    <tr>\n",
       "      <th>14</th>\n",
       "      <td>80</td>\n",
       "      <td>1.0</td>\n",
       "      <td>0.4737</td>\n",
       "      <td>23</td>\n",
       "      <td>0.0</td>\n",
       "      <td>50.4819</td>\n",
       "    </tr>\n",
       "  </tbody>\n",
       "</table>\n",
       "</div>"
      ],
      "text/plain": [
       "    SOC  SOH   Power   T  SEI_after  SEI_delta\n",
       "10   80  1.0  0.0526  23        0.0    44.8776\n",
       "11   80  1.0  0.1579  23        0.0    46.1896\n",
       "12   80  1.0  0.2632  23        0.0    47.5605\n",
       "13   80  1.0  0.3684  23        0.0    48.9998\n",
       "14   80  1.0  0.4737  23        0.0    50.4819"
      ]
     },
     "execution_count": 202,
     "metadata": {},
     "output_type": "execute_result"
    }
   ],
   "source": [
    "df = pd.read_excel(\"data0505.xlsx\",header=0)\n",
    "# clean up data\n",
    "df = df.dropna(how = 'all')\n",
    "df = df.fillna(0)\n",
    "df = df.round(4)\n",
    "df=df[df['Power']>=0]\n",
    "df.head()"
   ]
  },
  {
   "cell_type": "code",
   "execution_count": 203,
   "metadata": {
    "collapsed": true
   },
   "outputs": [],
   "source": [
    "# min_max_scaler = preprocessing.MinMaxScaler()\n",
    "# np_scaled = min_max_scaler.fit_transform(df)\n",
    "# df_normalized = pd.DataFrame(np_scaled)\n",
    "# df_normalized.head()"
   ]
  },
  {
   "cell_type": "code",
   "execution_count": 204,
   "metadata": {},
   "outputs": [
    {
     "data": {
      "text/plain": [
       "4880"
      ]
     },
     "execution_count": 204,
     "metadata": {},
     "output_type": "execute_result"
    }
   ],
   "source": [
    "x = np.array(df.iloc[:,0:3])#first three column are SoC, SoH, power\n",
    "y = np.array(df.iloc[:,5])#delta SEI\n",
    "X_train, X_test, Y_train, Y_test = cross_validation.train_test_split(\n",
    "x, y, test_size=0.2, random_state=42)\n",
    "total_len = X_train.shape[0]\n",
    "total_len"
   ]
  },
  {
   "cell_type": "code",
   "execution_count": 205,
   "metadata": {},
   "outputs": [
    {
     "data": {
      "text/plain": [
       "array([ 44.8776,  46.1896,  47.5605, ...,  52.5202,  53.8887,  55.2809])"
      ]
     },
     "execution_count": 205,
     "metadata": {},
     "output_type": "execute_result"
    }
   ],
   "source": [
    "y"
   ]
  },
  {
   "cell_type": "code",
   "execution_count": 206,
   "metadata": {},
   "outputs": [
    {
     "data": {
      "text/plain": [
       "LinearRegression(copy_X=True, fit_intercept=True, n_jobs=1, normalize=False)"
      ]
     },
     "execution_count": 206,
     "metadata": {},
     "output_type": "execute_result"
    }
   ],
   "source": [
    "# Create linear regression object\n",
    "regr = linear_model.LinearRegression()\n",
    "\n",
    "# Train the model using the training sets\n",
    "regr.fit(X_train, Y_train)\n"
   ]
  },
  {
   "cell_type": "code",
   "execution_count": 207,
   "metadata": {},
   "outputs": [
    {
     "name": "stdout",
     "output_type": "stream",
     "text": [
      "Coefficients: \n",
      " [  3.33356517e-03  -9.79759843e-01   1.09445592e+01]\n",
      "Mean squared error: 5.7812\n",
      "Variance score: 0.67\n"
     ]
    }
   ],
   "source": [
    "# The coefficients\n",
    "print('Coefficients: \\n', regr.coef_)\n",
    "# The mean squared error\n",
    "print(\"Mean squared error: %.4f\"\n",
    "      % np.mean((regr.predict(X_test) - Y_test) ** 2))\n",
    "# Explained variance score: 1 is perfect prediction\n",
    "print('Variance score: %.2f' % regr.score(X_test, Y_test))"
   ]
  },
  {
   "cell_type": "code",
   "execution_count": 208,
   "metadata": {},
   "outputs": [
    {
     "data": {
      "image/png": "[encoded data removed]",
      "text/plain": [
       "<matplotlib.figure.Figure at 0x287bc0c5cc0>"
      ]
     },
     "metadata": {},
     "output_type": "display_data"
    }
   ],
   "source": [
    "# Plot outputs\n",
    "plt.scatter(regr.predict(X_test), Y_test, color='blue',\n",
    "         linewidth=3)\n",
    "plt.ylim([40,60])\n",
    "plt.xlim([40,60])\n",
    "plt.show()"
   ]
  },
  {
   "cell_type": "code",
   "execution_count": 209,
   "metadata": {
    "collapsed": true
   },
   "outputs": [],
   "source": [
    "E = 1; # battery energy\n",
    "P = 1; # battery power\n",
    "T = 900; # 1 hour, resolution 4 seconds\n",
    "ts = 4/3600;"
   ]
  },
  {
   "cell_type": "code",
   "execution_count": 210,
   "metadata": {
    "collapsed": true
   },
   "outputs": [],
   "source": [
    "## Constant instruction signal\n",
    "soc_arr = [0.2]; #initial SoC 0.2\n",
    "soh_arr = [10**(-8)]; #initial SoH 1e-8\n",
    "power_arr = [0.6]; #constant power instruction 0.6\n",
    "for i in range(T):\n",
    "    state = [soc_arr[i],soh_arr[i],power_arr[i]]\n",
    "    state = np.array(state);\n",
    "    delta_soh = regr.predict(state.reshape(1, -1))*10**(-16) #calculate the thickness change\n",
    "    soh_new = soh_arr[-1]+delta_soh; # new SoH = previous SoH + thickness change\n",
    "    soh_arr.append(soh_new)\n",
    "    soc_new = soc_arr[-1]+(power_arr[-1]*ts)/E #new SoC = previous SoC + energy charged\n",
    "    soc_arr.append(soc_new)\n",
    "    power_new = 0.6\n",
    "    power_arr.append(power_new)"
   ]
  },
  {
   "cell_type": "code",
   "execution_count": 211,
   "metadata": {},
   "outputs": [
    {
     "data": {
      "image/png": "[encoded data removed]",
      "text/plain": [
       "<matplotlib.figure.Figure at 0x287bc193470>"
      ]
     },
     "metadata": {},
     "output_type": "display_data"
    }
   ],
   "source": [
    "f, axarr = plt.subplots(2, 2)\n",
    "axarr[0, 0].plot(range(T), power_arr[0:T])\n",
    "axarr[0, 0].set_title('Instruction signal')\n",
    "axarr[0, 1].scatter(range(T), soc_arr[0:T])\n",
    "axarr[0, 1].set_title('SoC')\n",
    "axarr[1, 0].plot(range(T), soh_arr[0:T])\n",
    "axarr[1, 0].set_title('SoH')\n",
    "plt.subplots_adjust(left= 0.125, right = 0.9, bottom = 0.1, top = 0.9 , wspace = 0.2, hspace = 0.2 )\n",
    "plt.tight_layout()\n",
    "plt.show()"
   ]
  },
  {
   "cell_type": "code",
   "execution_count": 225,
   "metadata": {
    "collapsed": true
   },
   "outputs": [],
   "source": [
    "## Sine wave instruction signal\n",
    "soc_arr = [0.6];\n",
    "soh_arr = [10**(-8)];\n",
    "power_arr = [0];\n",
    "for i in range(T):\n",
    "    if(power_arr[i]>=0):\n",
    "        state = [soc_arr[i],soh_arr[i],power_arr[i]]\n",
    "        state = np.array(state);\n",
    "        delta_soh = regr.predict(state.reshape(1, -1))*10**(-16)\n",
    "    else:\n",
    "        delta_soh = 0\n",
    "    soh_new = soh_arr[-1]+delta_soh;\n",
    "    soh_arr.append(soh_new)\n",
    "    soc_new = soc_arr[-1]+(power_arr[-1]*ts)/E\n",
    "    soc_arr.append(soc_new)\n",
    "    power_new = 3*np.sin(2*np.pi*(i+1)*4/600)\n",
    "    power_arr.append(power_new)"
   ]
  },
  {
   "cell_type": "code",
   "execution_count": 226,
   "metadata": {},
   "outputs": [
    {
     "data": {
      "image/png": "[encoded data removed]",
      "text/plain": [
       "<matplotlib.figure.Figure at 0x287bc0b1ba8>"
      ]
     },
     "metadata": {},
     "output_type": "display_data"
    }
   ],
   "source": [
    "f, axarr = plt.subplots(2, 2)\n",
    "axarr[0, 0].plot(range(T), power_arr[0:T])\n",
    "axarr[0, 0].set_title('Instruction signal')\n",
    "axarr[0, 1].scatter(range(T), soc_arr[0:T])\n",
    "axarr[0, 1].set_title('SoC')\n",
    "axarr[1, 0].plot(range(T), soh_arr[0:T])\n",
    "axarr[1, 0].set_title('SoH')\n",
    "plt.subplots_adjust(left= 0.125, right = 0.9, bottom = 0.1, top = 0.9 , wspace = 0.2, hspace = 0.2 )\n",
    "plt.tight_layout()\n",
    "plt.show()\n",
    "# Fine-tune figure; hide x ticks for top plots and y ticks for right plots"
   ]
  },
  {
   "cell_type": "code",
   "execution_count": null,
   "metadata": {
    "collapsed": true
   },
   "outputs": [],
   "source": []
  }
 ],
 "metadata": {
  "kernelspec": {
   "display_name": "Python 3",
   "language": "python",
   "name": "python3"
  },
  "language_info": {
   "codemirror_mode": {
    "name": "ipython",
    "version": 3
   },
   "file_extension": ".py",
   "mimetype": "text/x-python",
   "name": "python",
   "nbconvert_exporter": "python",
   "pygments_lexer": "ipython3",
   "version": "3.6.1"
  }
 },
 "nbformat": 4,
 "nbformat_minor": 2
}
